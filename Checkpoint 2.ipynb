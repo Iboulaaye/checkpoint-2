{
 "cells": [
  {
   "cell_type": "code",
   "execution_count": null,
   "id": "5b0c7154",
   "metadata": {
    "scrolled": true
   },
   "outputs": [],
   "source": [
    "#Question 1\n",
    "\n",
    "mylist=[x for x in range(2000,3000) if x%7==0 and x%5!=0]\n",
    "#on crée un variable x qui va parcourir la boucle entre 2000 et 3000\n",
    "#puis execute obligatoirement les 2 conditions à savoir: \n",
    "#si le reste de la division de la valeur de x par 7 est egale à 0 \n",
    "#si le reste de la division de la valeur de x par 5 est different de 0\n",
    "mylist\n",
    "#puis on affiche la liste"
   ]
  },
  {
   "cell_type": "code",
   "execution_count": null,
   "id": "89c51b86",
   "metadata": {},
   "outputs": [],
   "source": [
    "#Question 2\n",
    "\n",
    "#n=int(input(\"Merci de donner un nombre:\")) \n",
    "#while < 0 : \n",
    " #n=int(input(\"Merci de donner un nombre:\"))\n",
    "while True: # on declare la boucle while, qui prend la valeur de vraie \n",
    "  n=int(input(\"Merci de donner un nombre:\")) \n",
    "  if n >=0 : # si n est superieur ou egale à 0 \n",
    "    break # on sort de la boucle\n",
    "if n == 0 : # si n est strictement égale à 0 \n",
    "    print ( \"la factorielle de 0 est 1\"); # on affiche la factorielle de 0 est 1\n",
    "    \n",
    "else: # si non \n",
    "    F=1 # on declare la variable F qui est egale à 1\n",
    "    for i in range(2, n+1): # on declare la variable i qui parcours la boucle compris entre 2 et n+1\n",
    "      F = F*i # F recoit f multiplie par la valeur de i\n",
    "    print( \"la factorielle de \",n,\" est : \", F) # on affiche la valeur de f"
   ]
  },
  {
   "cell_type": "code",
   "execution_count": 1,
   "id": "fa0c5eb3",
   "metadata": {},
   "outputs": [
    {
     "name": "stdout",
     "output_type": "stream",
     "text": [
      "Merci de donner un nombre:5\n",
      "{1: 1, 2: 4, 3: 9, 4: 16, 5: 25}\n"
     ]
    }
   ],
   "source": [
    "#Question 3\n",
    "\n",
    "n = int(input(\"Merci de donner un nombre:\")) #on demande à l'utilisateur de donner les valeurs de n qui est un entier\n",
    "res={i: i*i for i in range (1,n+1)} # on créée un dictionnaire qui recoit comme clés i et comme valeurs i*i  et i parcours la boucle compris entre 1 et n+1\n",
    "print(res) # on affiche le dictionnaire res"
   ]
  },
  {
   "cell_type": "code",
   "execution_count": null,
   "id": "bb65f482",
   "metadata": {},
   "outputs": [],
   "source": [
    "#Question 4\n",
    "\n",
    "char= str(input(\"donnez un mot:\")) #on demande à l'utilisateur de donner les valeurs de char qui est une chaine de caractère\n",
    "n = int(input(\"Donner un nombre n:\")) #on demande à l'utilisateur de donner les valeurs de n qui est  un entier\n",
    "missing_char = '' #on déclare une chaine de caractère vide \n",
    "for i in range(0,len(char)): # on déclare une variable i qui va parcourir la boucle compris entre 0 et la longueur de char\n",
    "  if (i!=n): # on declare une condition si i est différent de n\n",
    "    missing_char = missing_char + char[i] # missing_char recoit la chaine de caractère (char) moins la valeur de i si la fonction est vérifiée\n",
    "print(missing_char) # on affiche la chaine de caractère "
   ]
  },
  {
   "cell_type": "code",
   "execution_count": null,
   "id": "dc16e749",
   "metadata": {},
   "outputs": [],
   "source": [
    "#Question 5\n",
    "\n",
    "import numpy as np # on importe la librairie qui nous permet d'utiliser la fontion numpy\n",
    "a= int(input(\"donner a:\")) #on demande à l'utilisateur de donner les valeurs de a et b qui sont des entiers\n",
    "b= int(input(\"donner b:\"))\n",
    "original_arr = np.full(a,b) #on créée un tableau avec les valeurs b et de colonne a qui sera stocké dans original_array\n",
    "print(original_arr) # on affiche la tableau\n",
    "arr_list = list(original_arr) # la fonction list() permet de creer une liste à partir du tableau original_array et le stock dans arr_list\n",
    "print(arr_list) # on affiche le tableau arr_list"
   ]
  },
  {
   "cell_type": "code",
   "execution_count": null,
   "id": "7de54334",
   "metadata": {},
   "outputs": [],
   "source": [
    "#Question 6 \n",
    "\n",
    "import numpy as # on importe la librairie qui nous permet d'utiliser la fontion numpy\n",
    "a= int(input(\"donner a:\")) #on demande à l'utilisateur de donner les valeurs de a,b,x et y qui sont des entier\n",
    "b= int(input(\"donner b:\"))\n",
    "x= int(input(\"donner x:\"))\n",
    "y= int(input(\"donner y:\"))\n",
    "first_arr = np.random.randint(x,y, size=(a,b)) #on crée un 1er tableau de ligne a et de colonne b dont les valeurs sont données aleatoirement entre x et y \n",
    "print(first_arr) # on affiche le premier taleau\n",
    "second_arr = np.random.randint(x,y, size=(a,b)) #on crée un 2ieme tableau de ligne a et de colonne b dont les valeurs sont données aleatoirement entre x et y \n",
    "print(second_arr) # on affiche le deuxieme taleau\n",
    "cov_arr = np.cov(first_arr,second_arr) # on utilise la fonction cov qui calcule la covariance entre le 1er et le 2ieme tableau\n",
    "print(cov_arr) # on affiche la coviance"
   ]
  },
  {
   "cell_type": "code",
   "execution_count": null,
   "id": "9896959f",
   "metadata": {},
   "outputs": [],
   "source": [
    "#Question 7 \n",
    "\n",
    "import math # on importe la librairie math qui nous permet d'utiliser les fonctions mathématiques\n",
    "numbers=input(\"Input D : \") #on demande à l'utilisateur de donner les valeurs de D qui est  un entier\n",
    "numbers=numbers.split(',') #la fonction split separe les nbres D selon la virgule\n",
    "result=[] # les resultats sont stockés dans la liste result\n",
    "for D in numbers: # on initialise la loupe pour que D parcoure les  valeurs dans numbers\n",
    "  Q = round(math.sqrt(2 * 50 * int(D) / 30)) #Q recoit la fonction de calcul, le round permet d'arrondir le nbre trouve \n",
    "  result.append(Q) # on ajoute la valeur de Q à la liste resultat  \n",
    "print(result) # on affiche le resultat"
   ]
  },
  {
   "cell_type": "code",
   "execution_count": null,
   "id": "220f9216",
   "metadata": {},
   "outputs": [],
   "source": []
  }
 ],
 "metadata": {
  "kernelspec": {
   "display_name": "Python 3 (ipykernel)",
   "language": "python",
   "name": "python3"
  },
  "language_info": {
   "codemirror_mode": {
    "name": "ipython",
    "version": 3
   },
   "file_extension": ".py",
   "mimetype": "text/x-python",
   "name": "python",
   "nbconvert_exporter": "python",
   "pygments_lexer": "ipython3",
   "version": "3.9.7"
  }
 },
 "nbformat": 4,
 "nbformat_minor": 5
}
